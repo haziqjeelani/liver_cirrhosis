{
 "cells": [
  {
   "cell_type": "code",
   "execution_count": 1,
   "metadata": {
    "collapsed": true,
    "ExecuteTime": {
     "end_time": "2023-11-03T22:30:34.463131100Z",
     "start_time": "2023-11-03T22:30:34.191127800Z"
    }
   },
   "outputs": [
    {
     "data": {
      "text/plain": "   ID  N_Days Status             Drug    Age Sex Ascites Hepatomegaly Spiders  \\\n0   1     400      D  D-penicillamine  21464   F       Y            Y       Y   \n1   2    4500      C  D-penicillamine  20617   F       N            Y       Y   \n2   3    1012      D  D-penicillamine  25594   M       N            N       N   \n3   4    1925      D  D-penicillamine  19994   F       N            Y       Y   \n4   5    1504     CL          Placebo  13918   F       N            Y       Y   \n\n  Edema  Bilirubin  Cholesterol  Albumin  Copper  Alk_Phos    SGOT  \\\n0     Y       14.5        261.0     2.60   156.0    1718.0  137.95   \n1     N        1.1        302.0     4.14    54.0    7394.8  113.52   \n2     S        1.4        176.0     3.48   210.0     516.0   96.10   \n3     S        1.8        244.0     2.54    64.0    6121.8   60.63   \n4     N        3.4        279.0     3.53   143.0     671.0  113.15   \n\n   Tryglicerides  Platelets  Prothrombin  Stage  \n0          172.0      190.0         12.2    4.0  \n1           88.0      221.0         10.6    3.0  \n2           55.0      151.0         12.0    4.0  \n3           92.0      183.0         10.3    4.0  \n4           72.0      136.0         10.9    3.0  ",
      "text/html": "<div>\n<style scoped>\n    .dataframe tbody tr th:only-of-type {\n        vertical-align: middle;\n    }\n\n    .dataframe tbody tr th {\n        vertical-align: top;\n    }\n\n    .dataframe thead th {\n        text-align: right;\n    }\n</style>\n<table border=\"1\" class=\"dataframe\">\n  <thead>\n    <tr style=\"text-align: right;\">\n      <th></th>\n      <th>ID</th>\n      <th>N_Days</th>\n      <th>Status</th>\n      <th>Drug</th>\n      <th>Age</th>\n      <th>Sex</th>\n      <th>Ascites</th>\n      <th>Hepatomegaly</th>\n      <th>Spiders</th>\n      <th>Edema</th>\n      <th>Bilirubin</th>\n      <th>Cholesterol</th>\n      <th>Albumin</th>\n      <th>Copper</th>\n      <th>Alk_Phos</th>\n      <th>SGOT</th>\n      <th>Tryglicerides</th>\n      <th>Platelets</th>\n      <th>Prothrombin</th>\n      <th>Stage</th>\n    </tr>\n  </thead>\n  <tbody>\n    <tr>\n      <th>0</th>\n      <td>1</td>\n      <td>400</td>\n      <td>D</td>\n      <td>D-penicillamine</td>\n      <td>21464</td>\n      <td>F</td>\n      <td>Y</td>\n      <td>Y</td>\n      <td>Y</td>\n      <td>Y</td>\n      <td>14.5</td>\n      <td>261.0</td>\n      <td>2.60</td>\n      <td>156.0</td>\n      <td>1718.0</td>\n      <td>137.95</td>\n      <td>172.0</td>\n      <td>190.0</td>\n      <td>12.2</td>\n      <td>4.0</td>\n    </tr>\n    <tr>\n      <th>1</th>\n      <td>2</td>\n      <td>4500</td>\n      <td>C</td>\n      <td>D-penicillamine</td>\n      <td>20617</td>\n      <td>F</td>\n      <td>N</td>\n      <td>Y</td>\n      <td>Y</td>\n      <td>N</td>\n      <td>1.1</td>\n      <td>302.0</td>\n      <td>4.14</td>\n      <td>54.0</td>\n      <td>7394.8</td>\n      <td>113.52</td>\n      <td>88.0</td>\n      <td>221.0</td>\n      <td>10.6</td>\n      <td>3.0</td>\n    </tr>\n    <tr>\n      <th>2</th>\n      <td>3</td>\n      <td>1012</td>\n      <td>D</td>\n      <td>D-penicillamine</td>\n      <td>25594</td>\n      <td>M</td>\n      <td>N</td>\n      <td>N</td>\n      <td>N</td>\n      <td>S</td>\n      <td>1.4</td>\n      <td>176.0</td>\n      <td>3.48</td>\n      <td>210.0</td>\n      <td>516.0</td>\n      <td>96.10</td>\n      <td>55.0</td>\n      <td>151.0</td>\n      <td>12.0</td>\n      <td>4.0</td>\n    </tr>\n    <tr>\n      <th>3</th>\n      <td>4</td>\n      <td>1925</td>\n      <td>D</td>\n      <td>D-penicillamine</td>\n      <td>19994</td>\n      <td>F</td>\n      <td>N</td>\n      <td>Y</td>\n      <td>Y</td>\n      <td>S</td>\n      <td>1.8</td>\n      <td>244.0</td>\n      <td>2.54</td>\n      <td>64.0</td>\n      <td>6121.8</td>\n      <td>60.63</td>\n      <td>92.0</td>\n      <td>183.0</td>\n      <td>10.3</td>\n      <td>4.0</td>\n    </tr>\n    <tr>\n      <th>4</th>\n      <td>5</td>\n      <td>1504</td>\n      <td>CL</td>\n      <td>Placebo</td>\n      <td>13918</td>\n      <td>F</td>\n      <td>N</td>\n      <td>Y</td>\n      <td>Y</td>\n      <td>N</td>\n      <td>3.4</td>\n      <td>279.0</td>\n      <td>3.53</td>\n      <td>143.0</td>\n      <td>671.0</td>\n      <td>113.15</td>\n      <td>72.0</td>\n      <td>136.0</td>\n      <td>10.9</td>\n      <td>3.0</td>\n    </tr>\n  </tbody>\n</table>\n</div>"
     },
     "execution_count": 1,
     "metadata": {},
     "output_type": "execute_result"
    }
   ],
   "source": [
    "import pandas as pd\n",
    "\n",
    "# Load the dataset\n",
    "cirrhosis_data_original = pd.read_csv('cirrhosis.csv')\n",
    "\n",
    "# Display the first few rows of the dataset\n",
    "cirrhosis_data_original.head()"
   ]
  },
  {
   "cell_type": "code",
   "execution_count": null,
   "outputs": [],
   "source": [],
   "metadata": {
    "collapsed": false
   }
  }
 ],
 "metadata": {
  "kernelspec": {
   "display_name": "Python 3",
   "language": "python",
   "name": "python3"
  },
  "language_info": {
   "codemirror_mode": {
    "name": "ipython",
    "version": 2
   },
   "file_extension": ".py",
   "mimetype": "text/x-python",
   "name": "python",
   "nbconvert_exporter": "python",
   "pygments_lexer": "ipython2",
   "version": "2.7.6"
  }
 },
 "nbformat": 4,
 "nbformat_minor": 0
}
